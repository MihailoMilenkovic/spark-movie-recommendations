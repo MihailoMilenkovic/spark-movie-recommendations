{
  "nbformat": 4,
  "nbformat_minor": 0,
  "metadata": {
    "colab": {
      "provenance": []
    },
    "kernelspec": {
      "name": "python3",
      "display_name": "Python 3"
    },
    "language_info": {
      "name": "python"
    }
  },
  "cells": [
    {
      "cell_type": "code",
      "execution_count": 295,
      "metadata": {
        "colab": {
          "base_uri": "https://localhost:8080/"
        },
        "id": "Y41MthBHQJNg",
        "outputId": "5ec1dc99-39bb-4a45-c68f-09624b914725"
      },
      "outputs": [
        {
          "output_type": "stream",
          "name": "stdout",
          "text": [
            "Looking in indexes: https://pypi.org/simple, https://us-python.pkg.dev/colab-wheels/public/simple/\n",
            "Requirement already satisfied: pyspark in /usr/local/lib/python3.10/dist-packages (3.4.0)\n",
            "Requirement already satisfied: py4j==0.10.9.7 in /usr/local/lib/python3.10/dist-packages (from pyspark) (0.10.9.7)\n"
          ]
        }
      ],
      "source": [
        "!pip install pyspark"
      ]
    },
    {
      "cell_type": "code",
      "source": [
        "'''\n",
        "This notebook gives implementations of various approaches to recommender systems on datasets containing popular movies:\n",
        "1)demographic filtering - finding most popular movies by some metric and showing those to all users\n",
        "2)content based filtering - finding similarity between movies and recommending that to people interested in certain movies\n",
        "3)collaborative filtering - predicting how users would rate a certain movie and recommending them top estimates\n",
        "'''\n",
        "import numpy as np \n",
        "import pandas as pd\n",
        "from google.colab import drive\n",
        "from pyspark.sql import SparkSession\n",
        "\n",
        "drive.mount('/content/drive')\n",
        "spark = SparkSession.builder.master(\"local[*]\").getOrCreate()\n",
        "sc = spark.sparkContext\n",
        "#load movie datasets (going through pandas because spark read csv doesn't read data properly)\n",
        "df1=pd.read_csv('/content/drive/My Drive/datasets/movies/tmdb_5000_credits.csv')\n",
        "df2=pd.read_csv('/content/drive/My Drive/datasets/movies/tmdb_5000_movies.csv')\n",
        "df1=spark.createDataFrame(df1)\n",
        "df2=spark.createDataFrame(df2)"
      ],
      "metadata": {
        "colab": {
          "base_uri": "https://localhost:8080/"
        },
        "id": "pqW3S3y_QYqH",
        "outputId": "cf4280a5-1f28-4bbc-e98d-c27c8dc4248a"
      },
      "execution_count": 296,
      "outputs": [
        {
          "output_type": "stream",
          "name": "stdout",
          "text": [
            "Drive already mounted at /content/drive; to attempt to forcibly remount, call drive.mount(\"/content/drive\", force_remount=True).\n"
          ]
        }
      ]
    },
    {
      "cell_type": "code",
      "source": [
        "'''\n",
        "We first load the tmdb5000 dataset to demonstrate demographic and content based filtering.\n",
        "This dataset contains information about movies, but no individual user data\n",
        "First dataset contains the following:\n",
        "movie_id - A unique identifier for each movie.\n",
        "cast - The name of lead and supporting actors.\n",
        "crew - The name of Director, Editor, Composer, Writer etc.\n",
        "'''\n",
        "df1.show()"
      ],
      "metadata": {
        "colab": {
          "base_uri": "https://localhost:8080/"
        },
        "id": "8zYtLnZnQtGm",
        "outputId": "8ed126aa-aa5f-4a06-be99-ade08d244b08"
      },
      "execution_count": 297,
      "outputs": [
        {
          "output_type": "stream",
          "name": "stdout",
          "text": [
            "+--------+--------------------+--------------------+--------------------+\n",
            "|movie_id|               title|                cast|                crew|\n",
            "+--------+--------------------+--------------------+--------------------+\n",
            "|   19995|              Avatar|[{\"cast_id\": 242,...|[{\"credit_id\": \"5...|\n",
            "|     285|Pirates of the Ca...|[{\"cast_id\": 4, \"...|[{\"credit_id\": \"5...|\n",
            "|  206647|             Spectre|[{\"cast_id\": 1, \"...|[{\"credit_id\": \"5...|\n",
            "|   49026|The Dark Knight R...|[{\"cast_id\": 2, \"...|[{\"credit_id\": \"5...|\n",
            "|   49529|         John Carter|[{\"cast_id\": 5, \"...|[{\"credit_id\": \"5...|\n",
            "|     559|        Spider-Man 3|[{\"cast_id\": 30, ...|[{\"credit_id\": \"5...|\n",
            "|   38757|             Tangled|[{\"cast_id\": 34, ...|[{\"credit_id\": \"5...|\n",
            "|   99861|Avengers: Age of ...|[{\"cast_id\": 76, ...|[{\"credit_id\": \"5...|\n",
            "|     767|Harry Potter and ...|[{\"cast_id\": 3, \"...|[{\"credit_id\": \"5...|\n",
            "|  209112|Batman v Superman...|[{\"cast_id\": 18, ...|[{\"credit_id\": \"5...|\n",
            "|    1452|    Superman Returns|[{\"cast_id\": 3, \"...|[{\"credit_id\": \"5...|\n",
            "|   10764|   Quantum of Solace|[{\"cast_id\": 1, \"...|[{\"credit_id\": \"5...|\n",
            "|      58|Pirates of the Ca...|[{\"cast_id\": 37, ...|[{\"credit_id\": \"5...|\n",
            "|   57201|     The Lone Ranger|[{\"cast_id\": 4, \"...|[{\"credit_id\": \"5...|\n",
            "|   49521|        Man of Steel|[{\"cast_id\": 2, \"...|[{\"credit_id\": \"5...|\n",
            "|    2454|The Chronicles of...|[{\"cast_id\": 1, \"...|[{\"credit_id\": \"5...|\n",
            "|   24428|        The Avengers|[{\"cast_id\": 46, ...|[{\"credit_id\": \"5...|\n",
            "|    1865|Pirates of the Ca...|[{\"cast_id\": 15, ...|[{\"credit_id\": \"5...|\n",
            "|   41154|      Men in Black 3|[{\"cast_id\": 4, \"...|[{\"credit_id\": \"5...|\n",
            "|  122917|The Hobbit: The B...|[{\"cast_id\": 10, ...|[{\"credit_id\": \"5...|\n",
            "+--------+--------------------+--------------------+--------------------+\n",
            "only showing top 20 rows\n",
            "\n"
          ]
        }
      ]
    },
    {
      "cell_type": "code",
      "source": [
        "'''\n",
        "Second dataset contains the following:\n",
        "budget - The budget in which the movie was made.\n",
        "genre - The genre of the movie, Action, Comedy ,Thriller etc.\n",
        "homepage - A link to the homepage of the movie.\n",
        "id - This is infact the movie_id as in the first dataset.\n",
        "keywords - The keywords or tags related to the movie.\n",
        "original_language - The language in which the movie was made.\n",
        "original_title - The title of the movie before translation or adaptation.\n",
        "overview - A brief description of the movie.\n",
        "popularity - A numeric quantity specifying the movie popularity.\n",
        "production_companies - The production house of the movie.\n",
        "production_countries - The country in which it was produced.\n",
        "release_date - The date on which it was released.\n",
        "revenue - The worldwide revenue generated by the movie.\n",
        "runtime - The running time of the movie in minutes.\n",
        "status - \"Released\" or \"Rumored\".\n",
        "tagline - Movie's tagline.\n",
        "title - Title of the movie.\n",
        "vote_average - average ratings the movie recieved.\n",
        "vote_count - the count of votes recieved.\n",
        "'''\n",
        "df2.show()"
      ],
      "metadata": {
        "colab": {
          "base_uri": "https://localhost:8080/"
        },
        "id": "stZc2NVNSf82",
        "outputId": "1a136a2b-44ff-4f46-fc3f-7054eb649638"
      },
      "execution_count": 298,
      "outputs": [
        {
          "output_type": "stream",
          "name": "stdout",
          "text": [
            "+---------+--------------------+--------------------+------+--------------------+-----------------+--------------------+--------------------+----------+--------------------+--------------------+------------+----------+-------+--------------------+--------+--------------------+--------------------+------------+----------+\n",
            "|   budget|              genres|            homepage|    id|            keywords|original_language|      original_title|            overview|popularity|production_companies|production_countries|release_date|   revenue|runtime|    spoken_languages|  status|             tagline|               title|vote_average|vote_count|\n",
            "+---------+--------------------+--------------------+------+--------------------+-----------------+--------------------+--------------------+----------+--------------------+--------------------+------------+----------+-------+--------------------+--------+--------------------+--------------------+------------+----------+\n",
            "|237000000|[{\"id\": 28, \"name...|http://www.avatar...| 19995|[{\"id\": 1463, \"na...|               en|              Avatar|In the 22nd centu...|150.437577|[{\"name\": \"Ingeni...|[{\"iso_3166_1\": \"...|  2009-12-10|2787965087|  162.0|[{\"iso_639_1\": \"e...|Released|Enter the World o...|              Avatar|         7.2|     11800|\n",
            "|300000000|[{\"id\": 12, \"name...|http://disney.go....|   285|[{\"id\": 270, \"nam...|               en|Pirates of the Ca...|Captain Barbossa,...|139.082615|[{\"name\": \"Walt D...|[{\"iso_3166_1\": \"...|  2007-05-19| 961000000|  169.0|[{\"iso_639_1\": \"e...|Released|At the end of the...|Pirates of the Ca...|         6.9|      4500|\n",
            "|245000000|[{\"id\": 28, \"name...|http://www.sonypi...|206647|[{\"id\": 470, \"nam...|               en|             Spectre|A cryptic message...|107.376788|[{\"name\": \"Columb...|[{\"iso_3166_1\": \"...|  2015-10-26| 880674609|  148.0|[{\"iso_639_1\": \"f...|Released|A Plan No One Esc...|             Spectre|         6.3|      4466|\n",
            "|250000000|[{\"id\": 28, \"name...|http://www.thedar...| 49026|[{\"id\": 849, \"nam...|               en|The Dark Knight R...|Following the dea...| 112.31295|[{\"name\": \"Legend...|[{\"iso_3166_1\": \"...|  2012-07-16|1084939099|  165.0|[{\"iso_639_1\": \"e...|Released|     The Legend Ends|The Dark Knight R...|         7.6|      9106|\n",
            "|260000000|[{\"id\": 28, \"name...|http://movies.dis...| 49529|[{\"id\": 818, \"nam...|               en|         John Carter|John Carter is a ...| 43.926995|[{\"name\": \"Walt D...|[{\"iso_3166_1\": \"...|  2012-03-07| 284139100|  132.0|[{\"iso_639_1\": \"e...|Released|Lost in our world...|         John Carter|         6.1|      2124|\n",
            "|258000000|[{\"id\": 14, \"name...|http://www.sonypi...|   559|[{\"id\": 851, \"nam...|               en|        Spider-Man 3|The seemingly inv...|115.699814|[{\"name\": \"Columb...|[{\"iso_3166_1\": \"...|  2007-05-01| 890871626|  139.0|[{\"iso_639_1\": \"e...|Released|  The battle within.|        Spider-Man 3|         5.9|      3576|\n",
            "|260000000|[{\"id\": 16, \"name...|http://disney.go....| 38757|[{\"id\": 1562, \"na...|               en|             Tangled|When the kingdom'...| 48.681969|[{\"name\": \"Walt D...|[{\"iso_3166_1\": \"...|  2010-11-24| 591794936|  100.0|[{\"iso_639_1\": \"e...|Released|They're taking ad...|             Tangled|         7.4|      3330|\n",
            "|280000000|[{\"id\": 28, \"name...|http://marvel.com...| 99861|[{\"id\": 8828, \"na...|               en|Avengers: Age of ...|When Tony Stark t...|134.279229|[{\"name\": \"Marvel...|[{\"iso_3166_1\": \"...|  2015-04-22|1405403694|  141.0|[{\"iso_639_1\": \"e...|Released| A New Age Has Come.|Avengers: Age of ...|         7.3|      6767|\n",
            "|250000000|[{\"id\": 12, \"name...|http://harrypotte...|   767|[{\"id\": 616, \"nam...|               en|Harry Potter and ...|As Harry begins h...| 98.885637|[{\"name\": \"Warner...|[{\"iso_3166_1\": \"...|  2009-07-07| 933959197|  153.0|[{\"iso_639_1\": \"e...|Released|Dark Secrets Reve...|Harry Potter and ...|         7.4|      5293|\n",
            "|250000000|[{\"id\": 28, \"name...|http://www.batman...|209112|[{\"id\": 849, \"nam...|               en|Batman v Superman...|Fearing the actio...|155.790452|[{\"name\": \"DC Com...|[{\"iso_3166_1\": \"...|  2016-03-23| 873260194|  151.0|[{\"iso_639_1\": \"e...|Released|  Justice or revenge|Batman v Superman...|         5.7|      7004|\n",
            "|270000000|[{\"id\": 12, \"name...|http://www.superm...|  1452|[{\"id\": 83, \"name...|               en|    Superman Returns|Superman returns ...| 57.925623|[{\"name\": \"DC Com...|[{\"iso_3166_1\": \"...|  2006-06-28| 391081192|  154.0|[{\"iso_639_1\": \"e...|Released|                 NaN|    Superman Returns|         5.4|      1400|\n",
            "|200000000|[{\"id\": 12, \"name...|http://www.mgm.co...| 10764|[{\"id\": 627, \"nam...|               en|   Quantum of Solace|Quantum of Solace...|107.928811|[{\"name\": \"Eon Pr...|[{\"iso_3166_1\": \"...|  2008-10-30| 586090727|  106.0|[{\"iso_639_1\": \"e...|Released|For love, for hat...|   Quantum of Solace|         6.1|      2965|\n",
            "|200000000|[{\"id\": 12, \"name...|http://disney.go....|    58|[{\"id\": 616, \"nam...|               en|Pirates of the Ca...|Captain Jack Spar...|145.847379|[{\"name\": \"Walt D...|[{\"iso_3166_1\": \"...|  2006-06-20|1065659812|  151.0|[{\"iso_639_1\": \"e...|Released|       Jack is back!|Pirates of the Ca...|         7.0|      5246|\n",
            "|255000000|[{\"id\": 28, \"name...|http://disney.go....| 57201|[{\"id\": 1556, \"na...|               en|     The Lone Ranger|The Texas Rangers...| 49.046956|[{\"name\": \"Walt D...|[{\"iso_3166_1\": \"...|  2013-07-03|  89289910|  149.0|[{\"iso_639_1\": \"e...|Released|Never Take Off th...|     The Lone Ranger|         5.9|      2311|\n",
            "|225000000|[{\"id\": 28, \"name...|http://www.manofs...| 49521|[{\"id\": 83, \"name...|               en|        Man of Steel|A young boy learn...| 99.398009|[{\"name\": \"Legend...|[{\"iso_3166_1\": \"...|  2013-06-12| 662845518|  143.0|[{\"iso_639_1\": \"e...|Released|You will believe ...|        Man of Steel|         6.5|      6359|\n",
            "|225000000|[{\"id\": 12, \"name...|                 NaN|  2454|[{\"id\": 818, \"nam...|               en|The Chronicles of...|One year after th...| 53.978602|[{\"name\": \"Walt D...|[{\"iso_3166_1\": \"...|  2008-05-15| 419651413|  150.0|[{\"iso_639_1\": \"e...|Released|Hope has a new face.|The Chronicles of...|         6.3|      1630|\n",
            "|220000000|[{\"id\": 878, \"nam...|http://marvel.com...| 24428|[{\"id\": 242, \"nam...|               en|        The Avengers|When an unexpecte...|144.448633|[{\"name\": \"Paramo...|[{\"iso_3166_1\": \"...|  2012-04-25|1519557910|  143.0|[{\"iso_639_1\": \"e...|Released|Some assembly req...|        The Avengers|         7.4|     11776|\n",
            "|380000000|[{\"id\": 12, \"name...|http://disney.go....|  1865|[{\"id\": 658, \"nam...|               en|Pirates of the Ca...|Captain Jack Spar...|135.413856|[{\"name\": \"Walt D...|[{\"iso_3166_1\": \"...|  2011-05-14|1045713802|  136.0|[{\"iso_639_1\": \"e...|Released|Live Forever Or D...|Pirates of the Ca...|         6.4|      4948|\n",
            "|225000000|[{\"id\": 28, \"name...|http://www.sonypi...| 41154|[{\"id\": 4379, \"na...|               en|      Men in Black 3|Agents J (Will Sm...| 52.035179|[{\"name\": \"Amblin...|[{\"iso_3166_1\": \"...|  2012-05-23| 624026776|  106.0|[{\"iso_639_1\": \"e...|Released|They are back... ...|      Men in Black 3|         6.2|      4160|\n",
            "|250000000|[{\"id\": 28, \"name...|http://www.thehob...|122917|[{\"id\": 417, \"nam...|               en|The Hobbit: The B...|Immediately after...|120.965743|[{\"name\": \"WingNu...|[{\"iso_3166_1\": \"...|  2014-12-10| 956019788|  144.0|[{\"iso_639_1\": \"e...|Released|Witness the defin...|The Hobbit: The B...|         7.1|      4760|\n",
            "+---------+--------------------+--------------------+------+--------------------+-----------------+--------------------+--------------------+----------+--------------------+--------------------+------------+----------+-------+--------------------+--------+--------------------+--------------------+------------+----------+\n",
            "only showing top 20 rows\n",
            "\n"
          ]
        }
      ]
    },
    {
      "cell_type": "code",
      "source": [
        "#join dataframes\n",
        "df1 = df1.drop(\"title\")\n",
        "df = df1.join(df2, df1.movie_id == df2.id, \"inner\")\n",
        "df=df.drop(\"movie_id\")\n",
        "df.show()"
      ],
      "metadata": {
        "colab": {
          "base_uri": "https://localhost:8080/"
        },
        "id": "tv-6e7r2SnWR",
        "outputId": "a17853ba-106f-4d4a-e249-9e9adfdf8900"
      },
      "execution_count": 299,
      "outputs": [
        {
          "output_type": "stream",
          "name": "stdout",
          "text": [
            "+--------------------+--------------------+---------+--------------------+--------------------+-----+--------------------+-----------------+--------------------+--------------------+----------+--------------------+--------------------+------------+---------+-------+--------------------+--------+--------------------+--------------------+------------+----------+\n",
            "|                cast|                crew|   budget|              genres|            homepage|   id|            keywords|original_language|      original_title|            overview|popularity|production_companies|production_countries|release_date|  revenue|runtime|    spoken_languages|  status|             tagline|               title|vote_average|vote_count|\n",
            "+--------------------+--------------------+---------+--------------------+--------------------+-----+--------------------+-----------------+--------------------+--------------------+----------+--------------------+--------------------+------------+---------+-------+--------------------+--------+--------------------+--------------------+------------+----------+\n",
            "|[{\"cast_id\": 9, \"...|[{\"credit_id\": \"5...|200000000|[{\"id\": 16, \"name...|http://disney.go....|17979|[{\"id\": 65, \"name...|               en|   A Christmas Carol|Miser Ebenezer Sc...| 39.744242|[{\"name\": \"Walt D...|[{\"iso_3166_1\": \"...|  2009-11-04|325233863|   96.0|[{\"iso_639_1\": \"e...|Released|  Season's Greedings|   A Christmas Carol|         6.6|      1095|\n",
            "|[{\"cast_id\": 1, \"...|[{\"credit_id\": \"5...|149000000|[{\"id\": 12, \"name...|http://www.dreamw...|11619|[{\"id\": 212, \"nam...|               en|        Flushed Away|London high-socie...| 22.550135|[{\"name\": \"Aardma...|[{\"iso_3166_1\": \"...|  2006-10-22| 64459316|   85.0|[{\"iso_639_1\": \"e...|Released|Someone's Going Down|        Flushed Away|         6.0|       874|\n",
            "|[{\"cast_id\": 12, ...|[{\"credit_id\": \"5...|        0|[{\"id\": 35, \"name...|                 NaN|77953|[{\"id\": 6078, \"na...|               en|        The Campaign|Two rival politic...| 16.460356|[{\"name\": \"Everym...|[{\"iso_3166_1\": \"...|  2012-08-09|104907746|   85.0|[{\"iso_639_1\": \"e...|Released|May The Best Lose...|        The Campaign|         5.6|       578|\n",
            "|[{\"cast_id\": 4, \"...|[{\"credit_id\": \"5...|        0|[{\"id\": 18, \"name...|http://luckyyoumo...| 1950|[{\"id\": 383, \"nam...|               en|           Lucky You|A professional po...|  6.162872|[{\"name\": \"Villag...|[{\"iso_3166_1\": \"...|  2007-05-01|  5761917|  124.0|[{\"iso_639_1\": \"e...|Released|Change your game....|           Lucky You|         5.4|        81|\n",
            "|[{\"cast_id\": 1, \"...|[{\"credit_id\": \"5...| 40000000|[{\"id\": 18, \"name...|                 NaN| 1677|[{\"id\": 577, \"nam...|               en|                 Ray|Born on a sharecr...| 21.743321|[{\"name\": \"Univer...|[{\"iso_3166_1\": \"...|  2004-10-29|124731534|  152.0|[{\"iso_639_1\": \"e...|Released|The extraordinary...|                 Ray|         7.2|       467|\n",
            "|[{\"cast_id\": 34, ...|[{\"credit_id\": \"5...| 40000000|[{\"id\": 12, \"name...|                 NaN| 9978|[{\"id\": 392, \"nam...|               en|        Stormbreaker|Alex Rider thinks...| 16.282962|[{\"name\": \"Isle o...|[{\"iso_3166_1\": \"...|  2006-07-21| 23937870|   93.0|[{\"iso_639_1\": \"e...|Released|Rule the school. ...|        Stormbreaker|         5.1|       213|\n",
            "|[{\"cast_id\": 4, \"...|[{\"credit_id\": \"5...|        0|[{\"id\": 28, \"name...|                 NaN|26486|                  []|               en|       The Last Shot|A movie director-...|    6.7698|[{\"name\": \"Touchs...|[{\"iso_3166_1\": \"...|  2004-09-24|        0|   90.0|[{\"iso_639_1\": \"e...|Released|                 NaN|       The Last Shot|         5.9|        15|\n",
            "|[{\"cast_id\": 11, ...|[{\"credit_id\": \"5...| 37000000|[{\"id\": 28, \"name...|                 NaN|10871|[{\"id\": 697, \"nam...|               en|          Switchback|FBI agent Dennis ...|  4.131546|[{\"name\": \"Paramo...|[{\"iso_3166_1\": \"...|  1997-10-31|  6482195|  118.0|[{\"iso_639_1\": \"e...|Released|The hunter become...|          Switchback|         5.8|        52|\n",
            "|[{\"cast_id\": 1, \"...|[{\"credit_id\": \"5...| 30000000|[{\"id\": 28, \"name...|                 NaN|13460|[{\"id\": 4565, \"na...|               en|            Doomsday|A lethal virus sp...| 21.538222|[{\"name\": \"Rogue ...|[{\"iso_3166_1\": \"...|  2008-03-14| 22211426|  108.0|[{\"iso_639_1\": \"e...|Released|Mankind has an ex...|            Doomsday|         5.8|       363|\n",
            "|[{\"cast_id\": 1, \"...|[{\"credit_id\": \"5...|        0|[{\"id\": 18, \"name...|                 NaN| 9715|[{\"id\": 1556, \"na...|               en|         Hope Floats|Birdee Pruitt has...|  7.922716|[{\"name\": \"Twenti...|[{\"iso_3166_1\": \"...|  1998-05-29|        0|  114.0|[{\"iso_639_1\": \"e...|Released|When life fell ap...|         Hope Floats|         5.8|        81|\n",
            "|[{\"cast_id\": 3, \"...|[{\"credit_id\": \"5...| 30000000|[{\"id\": 35, \"name...|http://www.larryc...|59861|[{\"id\": 1517, \"na...|               en|        Larry Crowne|After losing his ...| 20.355458|[{\"name\": \"Univer...|[{\"iso_3166_1\": \"...|  2011-06-30| 36160375|   98.0|[{\"iso_639_1\": \"e...|Released|Rediscover life a...|        Larry Crowne|         5.7|       359|\n",
            "|[{\"cast_id\": 1, \"...|[{\"credit_id\": \"5...| 35000000|[{\"id\": 35, \"name...|                 NaN|14846|[{\"id\": 4812, \"na...|               en|   Little Black Book|Determined to lea...|  6.246199|[{\"name\": \"Revolu...|[{\"iso_3166_1\": \"...|  2004-08-06| 22034832|  111.0|[{\"iso_639_1\": \"e...|Released|Have you ever bee...|   Little Black Book|         5.2|       112|\n",
            "|[{\"cast_id\": 2, \"...|[{\"credit_id\": \"5...| 26000000|[{\"id\": 35, \"name...|                 NaN|18147|[{\"id\": 65, \"name...|               en|Unaccompanied Minors|Five disparate ki...| 10.006282|                  []|                  []|  2006-12-08|        0|   90.0|[{\"iso_639_1\": \"e...|Released|No plane, no pare...|Unaccompanied Minors|         5.4|        66|\n",
            "|[{\"cast_id\": 5, \"...|[{\"credit_id\": \"5...| 25000000|[{\"id\": 10749, \"n...|                 NaN|38543|[{\"id\": 502, \"nam...|               en|            Ironclad|In the year 1215,...|  12.31708|[{\"name\": \"Rising...|[{\"iso_3166_1\": \"...|  2011-03-03|        0|  121.0|[{\"iso_639_1\": \"d...|Released|Heavy metal goes ...|            Ironclad|         6.2|       227|\n",
            "|[{\"cast_id\": 1, \"...|[{\"credit_id\": \"5...| 23000000|[{\"id\": 28, \"name...|http://www.mgm.co...| 2453|[{\"id\": 417, \"nam...|               en|Harley Davidson a...|It's the lawless ...| 12.869436|[{\"name\": \"Metro-...|[{\"iso_3166_1\": \"...|  1991-08-23|  7434726|   98.0|[{\"iso_639_1\": \"e...|Released|When the going ge...|Harley Davidson a...|         6.1|        82|\n",
            "|[{\"cast_id\": 33, ...|[{\"credit_id\": \"5...|200000000|[{\"id\": 28, \"name...|http://www.sonypi...|  558|[{\"id\": 851, \"nam...|               en|        Spider-Man 2|Peter Parker is g...| 35.149586|[{\"name\": \"Columb...|[{\"iso_3166_1\": \"...|  2004-06-25|783766341|  127.0|[{\"iso_639_1\": \"e...|Released|There's a hero in...|        Spider-Man 2|         6.7|      4321|\n",
            "|[{\"cast_id\": 8, \"...|[{\"credit_id\": \"5...| 55000000|[{\"id\": 28, \"name...|                 NaN| 9618|[{\"id\": 1563, \"na...|               en|        Tango & Cash|Ray Tango and Gab...| 22.787667|[{\"name\": \"Warner...|[{\"iso_3166_1\": \"...|  1989-12-22| 63408614|  104.0|[{\"iso_639_1\": \"e...|Released|Two of L.A.'s top...|        Tango & Cash|         6.1|       458|\n",
            "|[{\"cast_id\": 2, \"...|[{\"credit_id\": \"5...| 53000000|[{\"id\": 16, \"name...|                 NaN| 9444|[{\"id\": 3462, \"na...|               en|           Anastasia|This animated adv...| 45.565918|[{\"name\": \"Twenti...|[{\"iso_3166_1\": \"...|  1997-11-20|139804348|   94.0|[{\"iso_639_1\": \"e...|Released|Discover the Adve...|           Anastasia|         7.4|      1432|\n",
            "|[{\"cast_id\": 3, \"...|[{\"credit_id\": \"5...| 52000000|[{\"id\": 28, \"name...|http://www.frompa...|26389|[{\"id\": 90, \"name...|               en|From Paris with Love|James Reese has a...| 27.916284|[{\"name\": \"Apipou...|[{\"iso_3166_1\": \"...|  2010-02-05| 52826594|   92.0|[{\"iso_639_1\": \"d...|Released|Two agents. One c...|From Paris with Love|         6.1|       675|\n",
            "|[{\"cast_id\": 4, \"...|[{\"credit_id\": \"5...| 50000000|[{\"id\": 10751, \"n...|http://www.themar...|38579|                  []|               en|           Marmaduke|When Phil and Deb...|  12.25622|[{\"name\": \"Twenti...|[{\"iso_3166_1\": \"...|  2010-06-04| 83761844|   87.0|[{\"iso_639_1\": \"e...|Released|          Live Large|           Marmaduke|         5.0|       149|\n",
            "+--------------------+--------------------+---------+--------------------+--------------------+-----+--------------------+-----------------+--------------------+--------------------+----------+--------------------+--------------------+------------+---------+-------+--------------------+--------+--------------------+--------------------+------------+----------+\n",
            "only showing top 20 rows\n",
            "\n"
          ]
        }
      ]
    },
    {
      "cell_type": "code",
      "source": [
        "'''First approach to recommender systems: demographic filtering\n",
        "We recommend the most popular movies based on some metric and use that recommendation for all users\n",
        "The metric we'll use is IMDB's weighted rating (wr), given by:\n",
        "WR=(v/(v+m) * R)+(m/(v+m) * C), where\n",
        "v is the number of votes for the movie;\n",
        "m is the minimum votes required to be listed in the chart;\n",
        "R is the average rating of the movie; And\n",
        "C is the mean vote across the whole report\n",
        "'''\n",
        "from pyspark.sql.functions import *\n",
        "mean_votes_value=df.select(mean(\"vote_average\")).collect()[0][0]\n",
        "C=mean_votes_value\n",
        "'''taking m as 0.9 quantime of the number of votes\n",
        "this means that for a movie to be shown, it must have more votes than 90% of all movies'''\n",
        "m=df.approxQuantile(\"vote_count\", [0.9], 0.01)[0]\n"
      ],
      "metadata": {
        "id": "sCfHOe0TYs3C"
      },
      "execution_count": 300,
      "outputs": []
    },
    {
      "cell_type": "code",
      "source": [
        "qualified_movies=df.filter(df.vote_count>m)\n",
        "print(df.count(),qualified_movies.count())\n",
        "qualified_movies=qualified_movies.withColumn(\"score\",(col(\"vote_count\")/(col(\"vote_count\")+m) * col(\"vote_average\"))+(m/(m+col(\"vote_count\")) *C))"
      ],
      "metadata": {
        "colab": {
          "base_uri": "https://localhost:8080/"
        },
        "id": "J6tjWDU_c7PX",
        "outputId": "1cc1f560-e237-4074-d991-6dbdfefc8a08"
      },
      "execution_count": 301,
      "outputs": [
        {
          "output_type": "stream",
          "name": "stdout",
          "text": [
            "4803 527\n"
          ]
        }
      ]
    },
    {
      "cell_type": "code",
      "source": [
        "qualified_movies.orderBy(qualified_movies.score.desc()).select(\"title\",\"vote_count\",\"vote_average\",\"score\").show()"
      ],
      "metadata": {
        "colab": {
          "base_uri": "https://localhost:8080/"
        },
        "id": "PHObATACgZMS",
        "outputId": "48fc99ff-dc65-46f0-da58-ab977f13185c"
      },
      "execution_count": 302,
      "outputs": [
        {
          "output_type": "stream",
          "name": "stdout",
          "text": [
            "+--------------------+----------+------------+------------------+\n",
            "|               title|vote_count|vote_average|             score|\n",
            "+--------------------+----------+------------+------------------+\n",
            "|The Shawshank Red...|      8205|         8.5| 8.089566398667397|\n",
            "|          Fight Club|      9413|         8.3| 7.964618546645576|\n",
            "|     The Dark Knight|     12002|         8.2|7.9403712192591485|\n",
            "|        Pulp Fiction|      8428|         8.3|7.9319558284772835|\n",
            "|       The Godfather|      5893|         8.4| 7.886607896717145|\n",
            "|           Inception|     13752|         8.1| 7.880722972484728|\n",
            "|        Interstellar|     10867|         8.1| 7.830327511289671|\n",
            "|        Forrest Gump|      7927|         8.2| 7.830313247604206|\n",
            "|The Lord of the R...|      8064|         8.1| 7.752800128125049|\n",
            "|The Empire Strike...|      5879|         8.2| 7.730231493617875|\n",
            "|           Star Wars|      6624|         8.1| 7.692635529388596|\n",
            "|The Lord of the R...|      8705|         8.0| 7.690443773382661|\n",
            "|    Schindler's List|      4329|         8.3| 7.681147339853572|\n",
            "|            Whiplash|      4254|         8.3| 7.673333543639602|\n",
            "|The Lord of the R...|      7487|         8.0| 7.649340591869534|\n",
            "|               Se7en|      5765|         8.1| 7.645671889574451|\n",
            "|Guardians of the ...|      9742|         7.9| 7.633286773645366|\n",
            "|       Spirited Away|      3840|         8.3|  7.62638459088296|\n",
            "|          The Matrix|      8907|         7.9| 7.612262932995303|\n",
            "|          Inside Out|      6560|         8.0| 7.609920112687271|\n",
            "+--------------------+----------+------------+------------------+\n",
            "only showing top 20 rows\n",
            "\n"
          ]
        }
      ]
    },
    {
      "cell_type": "code",
      "source": [
        "'''The second approach to recommender systems: content based filtering\n",
        "We recommend movies based on similar movies. We will compute a pairwise simliarity metric between two movies\n",
        "We first only look at only the movie descriptions and find the most similar ones\n",
        "Later, we take more information into account when finding similar movies (genres, keywords, cast, crew)\n",
        "We map each movie to a vector representation and find the closest one based on cosine simliarity\n",
        "We're using the TF-IDF as our vector representation but it is possible to use other embeddings\n",
        "(word2vec, bert, clip embedding, etc.) \n",
        "'''\n",
        "\n",
        "#first approach: using only overview with TF-IDF\n",
        "from pyspark.ml import Pipeline\n",
        "from pyspark.ml.feature import StopWordsRemover, HashingTF, IDF, Tokenizer, Normalizer, BucketedRandomProjectionLSH\n",
        "def tf_idf_vectorize(column_name):\n",
        "  #split desired column into words\n",
        "  tokenizer = Tokenizer(inputCol=column_name, outputCol=\"words\")\n",
        "  words_df = tokenizer.transform(df)\n",
        "  # remove stopwords\n",
        "  stopwords_remover = StopWordsRemover(inputCol=\"words\", outputCol=\"filtered_words\")\n",
        "  filtered_df = stopwords_remover.transform(words_df)\n",
        "\n",
        "  # calculate term frequency to raw_features column\n",
        "  hashing_tf = HashingTF(inputCol=\"filtered_words\", outputCol=\"raw_features\")\n",
        "  featurized_df = hashing_tf.transform(filtered_df)\n",
        "\n",
        "  # calculate inverse document frequency based on raw features to get features\n",
        "  idf = IDF(inputCol=\"raw_features\", outputCol=\"features\")\n",
        "  idf_model = idf.fit(featurized_df)\n",
        "  tf_idf_df = idf_model.transform(featurized_df)\n",
        "\n",
        "  # normalize output features\n",
        "  normalizer = Normalizer(inputCol=\"features\", outputCol=\"norm_features\")\n",
        "  norm_pipeline = Pipeline(stages=[normalizer])\n",
        "  norm_model = norm_pipeline.fit(tf_idf_df)\n",
        "  norm_tf_idf_df = norm_model.transform(tf_idf_df)\n",
        "\n",
        "  # create BucketedRandomProjectionLSH pipeline which stores similar movies close to each other\n",
        "  brp_lsh = BucketedRandomProjectionLSH(inputCol=\"norm_features\", outputCol=\"hashes\", bucketLength=0.1, numHashTables=3)\n",
        "  brp_model = brp_lsh.fit(norm_tf_idf_df)\n",
        "\n",
        "  def findSimilarMovies(movie_id):\n",
        "    # find similar movies from the BucketedRandomProjectionLSH \n",
        "    # select the embedding column and index column from the movies_df DataFrame\n",
        "    print(\"Original movie:\")\n",
        "    norm_tf_idf_df.filter(norm_tf_idf_df.id == movie_id).select(\"title\").show()\n",
        "    embedding_df = norm_tf_idf_df.select(\"norm_features\", \"id\")\n",
        "    # extract the embedding vector for the n-th movie using indexing\n",
        "    n_embedding = embedding_df.filter(embedding_df.id == movie_id).first()[0]\n",
        "\n",
        "    print(\"Recommendations:\")\n",
        "    # find similar movies\n",
        "    similar_documents = brp_model.approxNearestNeighbors(norm_tf_idf_df, n_embedding, 10)\n",
        "    similar_documents.select(\"title\").show(truncate=False)\n",
        "\n",
        "  return norm_tf_idf_df,brp_model,findSimilarMovies\n",
        "\n",
        "norm_tf_idf_df,brp_model,findSimilarMovies=tf_idf_vectorize(\"overview\")\n",
        "findSimilarMovies(558)\n",
        "findSimilarMovies(df.filter(df.title == \"The Dark Knight Rises\").select(\"id\").first()[0])\n"
      ],
      "metadata": {
        "colab": {
          "base_uri": "https://localhost:8080/"
        },
        "id": "8s4VHkxrhWx2",
        "outputId": "155a44c7-7c72-4a2c-b920-6b19faba5f49"
      },
      "execution_count": 303,
      "outputs": [
        {
          "output_type": "stream",
          "name": "stdout",
          "text": [
            "Original movie:\n",
            "+------------+\n",
            "|       title|\n",
            "+------------+\n",
            "|Spider-Man 2|\n",
            "+------------+\n",
            "\n",
            "Recommendations:\n",
            "+------------------------+\n",
            "|title                   |\n",
            "+------------------------+\n",
            "|Spider-Man 2            |\n",
            "|The Helix... Loaded     |\n",
            "|The Amazing Spider-Man  |\n",
            "|27 Dresses              |\n",
            "|Spider-Man 3            |\n",
            "|The Way of the Gun      |\n",
            "|Psycho Beach Party      |\n",
            "|Bronson                 |\n",
            "|Supporting Characters   |\n",
            "|The Amazing Spider-Man 2|\n",
            "+------------------------+\n",
            "\n",
            "Original movie:\n",
            "+--------------------+\n",
            "|               title|\n",
            "+--------------------+\n",
            "|The Dark Knight R...|\n",
            "+--------------------+\n",
            "\n",
            "Recommendations:\n",
            "+---------------------+\n",
            "|title                |\n",
            "+---------------------+\n",
            "|The Dark Knight Rises|\n",
            "|The Helix... Loaded  |\n",
            "|The Dark Knight      |\n",
            "|Batman Returns       |\n",
            "|Batman Forever       |\n",
            "|Batman               |\n",
            "|Meet the Deedles     |\n",
            "|Slow Burn            |\n",
            "|Batman & Robin       |\n",
            "|JFK                  |\n",
            "+---------------------+\n",
            "\n"
          ]
        }
      ]
    },
    {
      "cell_type": "code",
      "source": [
        "#now using director, actor, genre and keyword data to do filtering with tf-idf\n",
        "from pyspark.sql.types import *\n",
        "import json\n",
        "def get_director(x):\n",
        "  x=json.loads(x)\n",
        "  for i in x:\n",
        "      if i['job'] == 'Director':\n",
        "          return i['name']\n",
        "  return None\n",
        "def clean_data(x):\n",
        "    if isinstance(x, list):\n",
        "        return [str.lower(i.replace(\" \", \"\")) for i in x]\n",
        "    else:\n",
        "        #Check if director exists. If not, return empty string\n",
        "        if isinstance(x, str):\n",
        "            return str.lower(x.replace(\" \", \"\"))\n",
        "        else:\n",
        "            return ''\n",
        "\n",
        "director_udf=udf(lambda x:clean_data(get_director(x)),StringType())\n",
        "df = df.withColumn('director', director_udf(col('crew')))"
      ],
      "metadata": {
        "id": "dlTxs2WRxu4U"
      },
      "execution_count": 304,
      "outputs": []
    },
    {
      "cell_type": "code",
      "source": [
        "# Returns at most first 3 elements of list (using to filter top actors, genres, and keywords)\n",
        "def get_first_names(x):\n",
        "    x=json.loads(x)\n",
        "    names=[i[\"name\"] for i in x][:3]\n",
        "    return names\n",
        "names_udf=udf(lambda x:\" \".join(clean_data(get_first_names(x))),StringType())\n",
        "features = ['cast', 'keywords', 'genres']\n",
        "df=df.withColumn(\"cast\",names_udf(col(\"cast\")))\n",
        "df=df.withColumn(\"keywords\",names_udf(col(\"keywords\")))\n",
        "df=df.withColumn(\"genres\",names_udf(col(\"genres\")))\n",
        "df.select(\"title\",\"cast\",\"director\",\"keywords\",\"genres\").show()"
      ],
      "metadata": {
        "colab": {
          "base_uri": "https://localhost:8080/"
        },
        "id": "hfdOLhyEQp9O",
        "outputId": "ce33aaf7-c7e1-488f-bbab-ff918e6abe28"
      },
      "execution_count": 305,
      "outputs": [
        {
          "output_type": "stream",
          "name": "stdout",
          "text": [
            "+--------------------+--------------------+------------------+--------------------+--------------------+\n",
            "|               title|                cast|          director|            keywords|              genres|\n",
            "+--------------------+--------------------+------------------+--------------------+--------------------+\n",
            "|   A Christmas Carol|garyoldman jimcar...|    robertzemeckis|holiday basedonno...|     animation drama|\n",
            "|        Flushed Away|hughjackman katew...|       davidbowers|londonengland und...|adventure animati...|\n",
            "|        The Campaign|willferrell zachg...|          jayroach|politics politici...|              comedy|\n",
            "|           Lucky You|ericbana drewbarr...|      curtishanson|poker sport lasvegas|       drama romance|\n",
            "|                 Ray|jamiefoxx kerrywa...|    taylorhackford|blackpeople soul ...|         drama music|\n",
            "|        Stormbreaker|alexpettyfer sara...|       geoffreysax|england secretint...|adventure action ...|\n",
            "|       The Last Shot|matthewbroderick ...|     jeffnathanson|                    |       action comedy|\n",
            "|          Switchback|dennisquaid danny...|         jebstuart|lossofson serialk...|action adventure ...|\n",
            "|            Doomsday|rhonamitra bobhos...|      neilmarshall|dystopia quaranti...|action thriller s...|\n",
            "|         Hope Floats|sandrabullock har...|    forestwhitaker|texas telegram de...|       drama romance|\n",
            "|        Larry Crowne|tomhanks juliarob...|          tomhanks|classroom college...|comedy romance drama|\n",
            "|   Little Black Book|brittanymurphy ho...|        nickhurran|                plan|comedy romance drama|\n",
            "|Unaccompanied Minors|lewisblack wilmer...|          paulfeig|             holiday|       comedy family|\n",
            "|            Ironclad|jamespurefoy kate...|   jonathanenglish|   ambush hero fight|romance adventure...|\n",
            "|Harley Davidson a...|mickeyrourke donj...|       simonwincer|corruption harley...|     action thriller|\n",
            "|        Spider-Man 2|tobeymaguire kirs...|          samraimi|dualidentity love...|action adventure ...|\n",
            "|        Tango & Cash|sylvesterstallone...|andreikonchalovsky|prisoner warondru...|action adventure ...|\n",
            "|           Anastasia|megryan johncusac...|       garygoldman|tzar musical russ...|    animation family|\n",
            "|From Paris with Love|johntravolta jona...|       pierremorel|paris cia undercover|action crime thri...|\n",
            "|           Marmaduke|owenwilson emmast...|            tomdey|                    |       family comedy|\n",
            "+--------------------+--------------------+------------------+--------------------+--------------------+\n",
            "only showing top 20 rows\n",
            "\n"
          ]
        }
      ]
    },
    {
      "cell_type": "code",
      "source": [
        "df=df.withColumn(\"soup\",concat(col(\"keywords\"),lit(' '),\n",
        "    col(\"cast\"),lit(' '),col(\"director\"),lit(' '),col(\"genres\")))\n",
        "\n",
        "norm_tf_idf_df,brp_model,findSimilarMovies=tf_idf_vectorize(\"soup\")\n",
        "findSimilarMovies(df.filter(df.title == \"The Godfather\").select(\"id\").first()[0])\n",
        "findSimilarMovies(df.filter(df.title == \"The Dark Knight Rises\").select(\"id\").first()[0])"
      ],
      "metadata": {
        "colab": {
          "base_uri": "https://localhost:8080/"
        },
        "id": "lxWDe-TPRY8T",
        "outputId": "005e65fa-2739-453a-9a8b-963e6cbbe62c"
      },
      "execution_count": 307,
      "outputs": [
        {
          "output_type": "stream",
          "name": "stdout",
          "text": [
            "Original movie:\n",
            "+-------------+\n",
            "|        title|\n",
            "+-------------+\n",
            "|The Godfather|\n",
            "+-------------+\n",
            "\n",
            "Recommendations:\n",
            "+-------------------------------------------------+\n",
            "|title                                            |\n",
            "+-------------------------------------------------+\n",
            "|The Godfather                                    |\n",
            "|Death Calls                                      |\n",
            "|Crowsnest                                        |\n",
            "|The Blood of My Brother: A Story of Death in Iraq|\n",
            "|Hum To Mohabbat Karega                           |\n",
            "|Short Cut to Nirvana: Kumbh Mela                 |\n",
            "|Light from the Darkroom                          |\n",
            "|Diamond Ruff                                     |\n",
            "|The Little Ponderosa Zoo                         |\n",
            "|UnDivided                                        |\n",
            "+-------------------------------------------------+\n",
            "\n",
            "Original movie:\n",
            "+--------------------+\n",
            "|               title|\n",
            "+--------------------+\n",
            "|The Dark Knight R...|\n",
            "+--------------------+\n",
            "\n",
            "Recommendations:\n",
            "+--------------------------------+\n",
            "|title                           |\n",
            "+--------------------------------+\n",
            "|The Dark Knight Rises           |\n",
            "|The Dark Knight                 |\n",
            "|Batman Begins                   |\n",
            "|UnDivided                       |\n",
            "|Short Cut to Nirvana: Kumbh Mela|\n",
            "|Crowsnest                       |\n",
            "|Diamond Ruff                    |\n",
            "|Hum To Mohabbat Karega          |\n",
            "|The Little Ponderosa Zoo        |\n",
            "|Death Calls                     |\n",
            "+--------------------------------+\n",
            "\n"
          ]
        }
      ]
    },
    {
      "cell_type": "code",
      "source": [
        "'''The third approach to content recommender systems is collaborative filtering\n",
        "We take into account all connections between movies and users based on their ratings.\n",
        "We then train an alternating least squares model to do recommendations\n",
        "The algorithm works by mapping users and movies to a vector space of fixed hidden dimension\n",
        "It does this in a way that multiplying the user and movie matrices yields the lowest error on the given examples\n",
        "We take the root mean squared error between actual and predicted ratings as our error\n",
        "The optimization is done so that we alternate between fixing one matrix and solving for the other using the least squares method\n",
        "After optimization, we can read out the values for the movies users have not watched and see which ones are predicted to have the highest rating\n",
        "These are the ones we recommend to the user.\n",
        "We use the movie lens small dataset, containing movie information as well as user ratings.\n",
        "'''\n",
        "\n",
        "from pyspark.ml.evaluation import RegressionEvaluator\n",
        "from pyspark.ml.recommendation import ALS\n",
        "\n",
        "# Load the ratings data\n",
        "\n",
        "ratingsSchema = StructType([\n",
        "  StructField(\"userId\", IntegerType(), True),\n",
        "  StructField(\"movieId\", IntegerType(), True),\n",
        "  StructField(\"rating\", FloatType(), True),\n",
        "  StructField(\"timestamp\", IntegerType(), True)\n",
        "])\n",
        "movie_ratings = spark.read.csv(\"/content/drive/My Drive/datasets/movies/ratings.csv\",schema=ratingsSchema,header=True)\n",
        "\n",
        "# Load the movie data\n",
        "movie_titles = spark.read.csv(\"/content/drive/My Drive/datasets/movies/movies.csv\", header='true', inferSchema='true')\n",
        "(training, test) = movie_ratings.randomSplit([.8, .2])\n",
        "\n",
        "# split into training and testing sets\n",
        "(training, test) = movie_ratings.randomSplit([.8, .2])\n",
        "# Build the recommendation model using ALS on the training data\n",
        "# Note we set cold start strategy to 'drop' to ensure we don't get NaN evaluation metrics\n",
        "als = ALS(maxIter=5, rank=4, regParam=0.01, userCol='userId', itemCol='movieId', ratingCol='rating', coldStartStrategy='drop')\n",
        "# fit the ALS model to the training set\n",
        "model=als.fit(training)\n",
        "# Evaluate the model by computing the RMSE on the test data\n",
        "predictions = model.transform(test)\n",
        "evaluator = RegressionEvaluator(metricName='rmse', labelCol='rating', predictionCol='prediction')\n",
        "rmse = evaluator.evaluate(predictions)\n",
        "print(rmse)"
      ],
      "metadata": {
        "colab": {
          "base_uri": "https://localhost:8080/"
        },
        "id": "V9_LcP6zXG5i",
        "outputId": "dee6aa62-6ef8-46fb-cb48-00401aeb1851"
      },
      "execution_count": 308,
      "outputs": [
        {
          "output_type": "stream",
          "name": "stdout",
          "text": [
            "0.9907057278721845\n"
          ]
        }
      ]
    },
    {
      "cell_type": "code",
      "source": [
        "# cross validation to find the best model\n",
        "# this takes a long time to run\n",
        "# just loading best model instead below\n",
        "\n",
        "# from pyspark.ml.tuning import CrossValidator, ParamGridBuilder\n",
        "# # initialize the ALS model\n",
        "# als_model = ALS(userCol='userId', itemCol='movieId', ratingCol='rating', coldStartStrategy='drop')\n",
        "# # create the parameter grid\n",
        "# params = ParamGridBuilder().addGrid(als_model.regParam, [.01, .05, .1, .15]).addGrid(als_model.rank, [10, 50, 100, 150]).build()\n",
        "# #instantiating crossvalidator estimator\n",
        "# cv = CrossValidator(estimator=als_model, estimatorParamMaps=params, evaluator=evaluator, parallelism=4)\n",
        "# best_model = cv.fit(movie_ratings)\n",
        "# model = best_model.bestModel\n",
        "\n",
        "final_als = ALS(maxIter=10, rank=50, regParam=0.15, userCol='userId', itemCol='movieId', ratingCol='rating', coldStartStrategy='drop')\n",
        "final_model = final_als.fit(training)\n",
        "test_predictions = final_model.transform(test)\n",
        "RMSE = evaluator.evaluate(test_predictions)\n",
        "print(RMSE)"
      ],
      "metadata": {
        "colab": {
          "base_uri": "https://localhost:8080/"
        },
        "id": "OI6YTpO2g_ey",
        "outputId": "1b6d938e-5d95-4f10-cb5b-485ae9040ab9"
      },
      "execution_count": 309,
      "outputs": [
        {
          "output_type": "stream",
          "name": "stdout",
          "text": [
            "0.8754838631457397\n"
          ]
        }
      ]
    },
    {
      "cell_type": "code",
      "source": [
        "\n",
        "# make recommendations for all users using the recommendForAllUsers method\n",
        "recommendations = final_model.recommendForAllUsers(10)\n",
        "    \n",
        "def name_retriever(movie_id):\n",
        "    return movie_titles.where(movie_titles.movieId == movie_id).take(1)[0]['title']\n",
        "\n",
        "def get_user_recs(user_id, rating_df):\n",
        "\n",
        "  print(\"Previous user ratings:\")\n",
        "  movie_title_udf=udf(lambda x:name_retriever(x),StringType())\n",
        "  curr_user_ratings=rating_df.where(rating_df.userId==user_id)\n",
        "  curr_user_ratings.join(movie_titles,on=\"movieId\").select(\"rating\",\"title\").orderBy(\"rating\",ascending=False).show(truncate=False)\n",
        "  # get recommendations specifically for the new user that has been added to the DataFrame\n",
        "  recs_for_user = recommendations.where(recommendations.userId == user_id).take(1)\n",
        "\n",
        "  for ranking, (movie_id, rating) in enumerate(recs_for_user[0]['recommendations']):\n",
        "    movie_string = name_retriever(movie_id)\n",
        "    print('Recommendation {}: {} | predicted score: {}'.format(ranking+1, movie_string, rating))\n",
        "  "
      ],
      "metadata": {
        "id": "tFm7CSC_mYgH"
      },
      "execution_count": 310,
      "outputs": []
    },
    {
      "cell_type": "code",
      "source": [
        "get_user_recs(1,movie_ratings)"
      ],
      "metadata": {
        "colab": {
          "base_uri": "https://localhost:8080/"
        },
        "id": "LdX_Ly2ppP45",
        "outputId": "5ce10146-5f8a-4a72-d1f6-5ade0dae9a0b"
      },
      "execution_count": 311,
      "outputs": [
        {
          "output_type": "stream",
          "name": "stdout",
          "text": [
            "Previous user ratings:\n",
            "+------+-------------------------------------------+\n",
            "|rating|title                                      |\n",
            "+------+-------------------------------------------+\n",
            "|5.0   |Mr. Smith Goes to Washington (1939)        |\n",
            "|5.0   |Blues Brothers, The (1980)                 |\n",
            "|5.0   |Winnie the Pooh and the Blustery Day (1968)|\n",
            "|5.0   |Seven (a.k.a. Se7en) (1995)                |\n",
            "|5.0   |Three Caballeros, The (1945)               |\n",
            "|5.0   |Bottle Rocket (1996)                       |\n",
            "|5.0   |Sword in the Stone, The (1963)             |\n",
            "|5.0   |Canadian Bacon (1995)                      |\n",
            "|5.0   |Dumbo (1941)                               |\n",
            "|5.0   |Billy Madison (1995)                       |\n",
            "|5.0   |Bedknobs and Broomsticks (1971)            |\n",
            "|5.0   |Star Wars: Episode IV - A New Hope (1977)  |\n",
            "|5.0   |Alice in Wonderland (1951)                 |\n",
            "|5.0   |Fugitive, The (1993)                       |\n",
            "|5.0   |Ghost and the Darkness, The (1996)         |\n",
            "|5.0   |Tombstone (1993)                           |\n",
            "|5.0   |Willy Wonka & the Chocolate Factory (1971) |\n",
            "|5.0   |Fargo (1996)                               |\n",
            "|5.0   |Monty Python's Life of Brian (1979)        |\n",
            "|5.0   |Wizard of Oz, The (1939)                   |\n",
            "+------+-------------------------------------------+\n",
            "only showing top 20 rows\n",
            "\n",
            "Recommendation 1: Seve (2014) | predicted score: 5.810806751251221\n",
            "Recommendation 2: The Big Bus (1976) | predicted score: 5.810806751251221\n",
            "Recommendation 3: Dragon Ball Z: The History of Trunks (Doragon bôru Z: Zetsubô e no hankô!! Nokosareta chô senshi - Gohan to Torankusu) (1993) | predicted score: 5.796726226806641\n",
            "Recommendation 4: On the Beach (1959) | predicted score: 5.796726226806641\n",
            "Recommendation 5: Saving Face (2004) | predicted score: 5.621181488037109\n",
            "Recommendation 6: Enter the Void (2009) | predicted score: 5.392981052398682\n",
            "Recommendation 7: My Sassy Girl (Yeopgijeogin geunyeo) (2001) | predicted score: 5.388566017150879\n",
            "Recommendation 8: True Grit (1969) | predicted score: 5.387280464172363\n",
            "Recommendation 9: Belle époque (1992) | predicted score: 5.384171485900879\n",
            "Recommendation 10: De platte jungle (1978) | predicted score: 5.370293617248535\n"
          ]
        }
      ]
    }
  ]
}